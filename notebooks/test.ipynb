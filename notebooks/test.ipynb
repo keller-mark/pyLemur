{
 "cells": [
  {
   "cell_type": "code",
   "execution_count": 1,
   "metadata": {},
   "outputs": [
    {
     "name": "stderr",
     "output_type": "stream",
     "text": [
      "/Users/mkeller/software/miniconda3/envs/pylemur/lib/python3.11/site-packages/tqdm/auto.py:21: TqdmWarning: IProgress not found. Please update jupyter and ipywidgets. See https://ipywidgets.readthedocs.io/en/stable/user_install.html\n",
      "  from .autonotebook import tqdm as notebook_tqdm\n",
      "OMP: Info #276: omp_set_nested routine deprecated, please use omp_set_max_active_levels instead.\n"
     ]
    }
   ],
   "source": [
    "# Standard imports\n",
    "import numpy as np\n",
    "\n",
    "# pertpy is needed to download the Kang data\n",
    "import pertpy\n",
    "import scanpy as sc\n",
    "\n",
    "# This will download the data to ./data/kang_2018.h5ad\n",
    "adata = pertpy.data.kang_2018()\n",
    "# Store counts separately in the layers\n",
    "adata.layers[\"counts\"] = adata.X.copy()"
   ]
  },
  {
   "cell_type": "code",
   "execution_count": 2,
   "metadata": {},
   "outputs": [],
   "source": [
    "import pylemur.pp.basic\n",
    "\n",
    "adata.layers[\"logcounts\"] = pylemur.pp.basic.shifted_log_transform(adata.X)"
   ]
  },
  {
   "cell_type": "code",
   "execution_count": 3,
   "metadata": {},
   "outputs": [],
   "source": [
    "import dask.array as da\n",
    "\n",
    "def get_input_arr():\n",
    "    return da.from_array(adata.layers[\"logcounts\"])"
   ]
  },
  {
   "cell_type": "code",
   "execution_count": 4,
   "metadata": {},
   "outputs": [],
   "source": [
    "x = np.array([[1, 2, 3]])"
   ]
  },
  {
   "cell_type": "code",
   "execution_count": 5,
   "metadata": {},
   "outputs": [
    {
     "data": {
      "text/plain": [
       "(3,)"
      ]
     },
     "execution_count": 5,
     "metadata": {},
     "output_type": "execute_result"
    }
   ],
   "source": [
    "np.squeeze(x).shape"
   ]
  },
  {
   "cell_type": "code",
   "execution_count": 6,
   "metadata": {},
   "outputs": [],
   "source": [
    "A = np.ones((24673, 2))\n",
    "B = np.ones((24673,))"
   ]
  },
  {
   "cell_type": "code",
   "execution_count": 7,
   "metadata": {},
   "outputs": [
    {
     "data": {
      "text/plain": [
       "array([1., 1., 1., ..., 1., 1., 1.])"
      ]
     },
     "execution_count": 7,
     "metadata": {},
     "output_type": "execute_result"
    }
   ],
   "source": [
    "B"
   ]
  },
  {
   "cell_type": "code",
   "execution_count": 8,
   "metadata": {},
   "outputs": [
    {
     "data": {
      "text/plain": [
       "AnnData object with n_obs × n_vars = 24673 × 15706\n",
       "    obs: 'nCount_RNA', 'nFeature_RNA', 'tsne1', 'tsne2', 'label', 'cluster', 'cell_type', 'replicate', 'nCount_SCT', 'nFeature_SCT', 'integrated_snn_res.0.4', 'seurat_clusters'\n",
       "    var: 'name'\n",
       "    obsm: 'X_pca', 'X_umap'\n",
       "    layers: 'counts', 'logcounts'"
      ]
     },
     "execution_count": 8,
     "metadata": {},
     "output_type": "execute_result"
    }
   ],
   "source": [
    "adata"
   ]
  },
  {
   "cell_type": "code",
   "execution_count": 9,
   "metadata": {},
   "outputs": [
    {
     "name": "stdout",
     "output_type": "stream",
     "text": [
      "Centering the data using linear regression.\n",
      "Find base point\n",
      "Fit regression on latent spaces\n",
      "Find shared embedding coordinates\n"
     ]
    },
    {
     "name": "stderr",
     "output_type": "stream",
     "text": [
      "/Users/mkeller/research/dbmi/vitessce/pyLemur/src/pylemur/tl/alignment.py:142: RuntimeWarning: divide by zero encountered in divide\n",
      "  theta = theta * (1 - np.exp(-((N_b / (nclust * tau)) ** 2)))\n",
      "2024-12-10 09:33:45,310 - harmonypy - INFO - Computing initial centroids with sklearn.KMeans...\n",
      "2024-12-10 09:33:46,846 - harmonypy - INFO - sklearn.KMeans initialization complete.\n",
      "2024-12-10 09:33:46,930 - harmonypy - INFO - Stopped before convergence\n"
     ]
    },
    {
     "name": "stdout",
     "output_type": "stream",
     "text": [
      "Alignment iteration 0\n",
      "(24673, 15) 1 24673\n",
      "Alignment iteration 1\n",
      "(24673, 15) 1 24673\n",
      "Alignment iteration 2\n",
      "(24673, 15) 1 24673\n",
      "Alignment iteration 3\n",
      "(24673, 15) 1 24673\n",
      "Alignment iteration 4\n",
      "(24673, 15) 1 24673\n",
      "Alignment iteration 5\n",
      "(24673, 15) 1 24673\n",
      "Alignment iteration 6\n",
      "(24673, 15) 1 24673\n",
      "Alignment iteration 7\n",
      "(24673, 15) 1 24673\n",
      "Converged\n",
      "LEMUR model with 15 dimensions\n"
     ]
    }
   ],
   "source": [
    "import pylemur\n",
    "\n",
    "model = pylemur.tl.LEMUR(adata, get_input_arr, design = \"~ label\", n_embedding=15, layer = \"logcounts\")\n",
    "model.fit()\n",
    "model.align_with_harmony()\n",
    "print(model)"
   ]
  },
  {
   "cell_type": "code",
   "execution_count": null,
   "metadata": {},
   "outputs": [],
   "source": [
    "# Recalculate the UMAP on the embedding calculated by LEMUR\n",
    "adata.obsm[\"embedding\"] = model.embedding\n",
    "sc.pp.neighbors(adata, use_rep=\"embedding\")\n",
    "sc.tl.umap(adata)\n",
    "sc.pl.umap(adata, color=[\"label\", \"cell_type\"])"
   ]
  },
  {
   "cell_type": "code",
   "execution_count": null,
   "metadata": {},
   "outputs": [],
   "source": [
    "import matplotlib.pyplot as plt\n",
    "\n",
    "adata.layers[\"diff\"] = np.random.randn(*adata.shape)\n",
    "sel_gene = \"TNFRSF18\"\n",
    "\n",
    "fsize = plt.rcParams[\"figure.figsize\"]\n",
    "fig = plt.figure(figsize=(fsize[0] * 3, fsize[1]))\n",
    "axs = [fig.add_subplot(1, 3, i + 1) for i in range(3)]\n",
    "for ax in axs:\n",
    "    ax.set_aspect(\"equal\")\n",
    "sc.pl.umap(\n",
    "    adata,\n",
    "    layer=\"diff\",\n",
    "    color=[sel_gene],\n",
    "    cmap=plt.get_cmap(\"seismic\"),\n",
    "    vcenter=0,\n",
    "    vmin=-0.5,\n",
    "    vmax=0.5,\n",
    "    title=\"Pred diff (stim - ctrl)\",\n",
    "    ax=axs[0],\n",
    "    show=False,\n",
    ")"
   ]
  },
  {
   "cell_type": "code",
   "execution_count": null,
   "metadata": {},
   "outputs": [],
   "source": []
  },
  {
   "cell_type": "code",
   "execution_count": null,
   "metadata": {},
   "outputs": [],
   "source": [
    "sc.pl.umap(\n",
    "    adata,\n",
    "    layer=\"diff\",\n",
    "    color=[sel_gene, \"YBEY\"],\n",
    "    cmap=plt.get_cmap(\"seismic\"),\n",
    "    vcenter=0,\n",
    "    vmin=-0.5,\n",
    "    vmax=0.5,\n",
    "    title=\"Pred diff (stim - ctrl)\",\n",
    "    show=False,\n",
    ")"
   ]
  },
  {
   "cell_type": "code",
   "execution_count": null,
   "metadata": {},
   "outputs": [],
   "source": [
    "adata.var_names"
   ]
  },
  {
   "cell_type": "code",
   "execution_count": null,
   "metadata": {},
   "outputs": [],
   "source": []
  }
 ],
 "metadata": {
  "kernelspec": {
   "display_name": "Python 3 (ipykernel)",
   "language": "python",
   "name": "python3"
  },
  "language_info": {
   "codemirror_mode": {
    "name": "ipython",
    "version": 3
   },
   "file_extension": ".py",
   "mimetype": "text/x-python",
   "name": "python",
   "nbconvert_exporter": "python",
   "pygments_lexer": "ipython3",
   "version": "3.11.9"
  }
 },
 "nbformat": 4,
 "nbformat_minor": 4
}
